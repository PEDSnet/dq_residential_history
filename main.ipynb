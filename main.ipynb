{
 "cells": [
  {
   "cell_type": "code",
   "execution_count": null,
   "metadata": {},
   "outputs": [],
   "source": [
    "#!python3 -m pip install psycopg2-binary\n",
    "#!python3 -m pip install jinja2\n",
    "from run_queries import *\n",
    "import os\n",
    "from config import *\n",
    "import time\n",
    "import datetime\n",
    "import os\n",
    "import glob \n"
   ]
  },
  {
   "cell_type": "code",
   "execution_count": null,
   "metadata": {},
   "outputs": [],
   "source": [
    "# create schema and empty tables\n",
    "execute_sql_file(read_and_render_sql_file('sql/create_schema.sql'))\n",
    "execute_sql_file(read_and_render_sql_file('sql/create_tables.sql'))"
   ]
  },
  {
   "cell_type": "code",
   "execution_count": null,
   "metadata": {},
   "outputs": [],
   "source": [
    "render_and_execute_query_against_all_sites('sql/pct_pats_with_loc_his_and_fips.sql')"
   ]
  },
  {
   "cell_type": "code",
   "execution_count": null,
   "metadata": {},
   "outputs": [],
   "source": [
    "render_and_execute_query_against_all_sites('sql/pct_loc_his_records_with_fips.sql')"
   ]
  },
  {
   "cell_type": "code",
   "execution_count": null,
   "metadata": {},
   "outputs": [],
   "source": [
    "render_and_execute_query_against_all_sites('sql/pct_loc_his_records_dups.sql')"
   ]
  },
  {
   "cell_type": "code",
   "execution_count": null,
   "metadata": {},
   "outputs": [],
   "source": [
    "render_and_execute_query_against_all_sites('sql/pct_pats_with_dups.sql')"
   ]
  },
  {
   "cell_type": "code",
   "execution_count": null,
   "metadata": {},
   "outputs": [],
   "source": [
    "render_and_execute_query_against_all_sites('sql/pct_pats_with_30d_gap.sql')"
   ]
  },
  {
   "cell_type": "code",
   "execution_count": null,
   "metadata": {},
   "outputs": [],
   "source": [
    "render_and_execute_query_against_all_sites('sql/pct_pats_without_loc_his_record.sql')"
   ]
  },
  {
   "cell_type": "code",
   "execution_count": null,
   "metadata": {},
   "outputs": [],
   "source": [
    "render_and_execute_query_against_all_sites('sql/pct_pats_per_year_with_encompassing_loc_his.sql')"
   ]
  },
  {
   "cell_type": "code",
   "execution_count": null,
   "metadata": {},
   "outputs": [],
   "source": [
    "render_and_execute_query_against_all_sites('sql/pct_loc_his_records_with_overlapping_geocode_dates.sql')"
   ]
  },
  {
   "cell_type": "code",
   "execution_count": null,
   "metadata": {},
   "outputs": [],
   "source": [
    "render_and_execute_query_against_all_sites('sql/pct_pats_with_overlapping_geocode_dates.sql')"
   ]
  },
  {
   "cell_type": "code",
   "execution_count": null,
   "metadata": {},
   "outputs": [],
   "source": [
    "render_and_execute_query_against_all_sites('sql/pct_distinct_2010_geocodes_invalid.sql')\n",
    "render_and_execute_query_against_all_sites('sql/pct_distinct_2020_geocodes_invalid.sql')\n",
    "render_and_execute_query_against_all_sites('sql/pct_loc_his_records_with_invalid_2010_geocodes.sql')\n",
    "render_and_execute_query_against_all_sites('sql/pct_loc_his_records_with_invalid_2020_geocodes.sql')"
   ]
  }
 ],
 "metadata": {
  "kernelspec": {
   "display_name": "Python 3",
   "language": "python",
   "name": "python3"
  },
  "language_info": {
   "codemirror_mode": {
    "name": "ipython",
    "version": 3
   },
   "file_extension": ".py",
   "mimetype": "text/x-python",
   "name": "python",
   "nbconvert_exporter": "python",
   "pygments_lexer": "ipython3",
   "version": "3.9.6"
  },
  "orig_nbformat": 4,
  "vscode": {
   "interpreter": {
    "hash": "31f2aee4e71d21fbe5cf8b01ff0e069b9275f58929596ceb00d14d90e3e16cd6"
   }
  }
 },
 "nbformat": 4,
 "nbformat_minor": 2
}
